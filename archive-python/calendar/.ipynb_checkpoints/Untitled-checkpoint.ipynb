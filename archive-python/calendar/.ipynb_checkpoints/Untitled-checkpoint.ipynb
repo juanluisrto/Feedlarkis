{
 "cells": [
  {
   "cell_type": "code",
   "execution_count": 3,
   "metadata": {
    "collapsed": false
   },
   "outputs": [
    {
     "name": "stdout",
     "output_type": "stream",
     "text": [
      "0\n",
      "1\n",
      "2\n",
      "3\n",
      "4\n",
      "5\n",
      "6\n"
     ]
    }
   ],
   "source": [
    "for i in range(7):\n",
    "    print i"
   ]
  },
  {
   "cell_type": "code",
   "execution_count": null,
   "metadata": {
    "collapsed": true
   },
   "outputs": [],
   "source": [
    "    week_names=[\"Monday\",\"Tuesday\",\"Wednesday\",\"Thursday\",\"Friday\",\"Saturday\",\"Sunday\"]\n",
    "    for i in range(7):\n",
    "    \tprint \"\"\"\n",
    "    \t\t <div class=\"col-sm-3\">\n",
    "              <div class=\"panel panel-primary\">\n",
    "                <div class=\"panel-heading\">%s</div>\n",
    "                <div class=\"panel-body\">\n",
    "                \n",
    "                  </div>\n",
    "                </div>\n",
    "                <div class=\"panel-footer\">Buy 50 mobiles and get a gift card</div>\n",
    "              </div>\n",
    "              \"\"\"  %(week_names[i])\n"
   ]
  }
 ],
 "metadata": {
  "kernelspec": {
   "display_name": "Python 2",
   "language": "python",
   "name": "python2"
  },
  "language_info": {
   "codemirror_mode": {
    "name": "ipython",
    "version": 2
   },
   "file_extension": ".py",
   "mimetype": "text/x-python",
   "name": "python",
   "nbconvert_exporter": "python",
   "pygments_lexer": "ipython2",
   "version": "2.7.11"
  }
 },
 "nbformat": 4,
 "nbformat_minor": 0
}
